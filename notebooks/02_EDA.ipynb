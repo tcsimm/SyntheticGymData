{
 "cells": [
  {
   "cell_type": "code",
   "execution_count": 2,
   "id": "19b7f9b4",
   "metadata": {},
   "outputs": [],
   "source": [
    "# Imports\n",
    "import pandas as pd\n",
    "import seaborn as sns \n",
    "import matplotlib.pyplot as plt"
   ]
  },
  {
   "cell_type": "code",
   "execution_count": 3,
   "id": "b935bc90",
   "metadata": {},
   "outputs": [],
   "source": [
    "# Load cleaned dataset\n",
    "df = pd.read_csv(\"/Users/thomassimmons/c/GymDataJul2025/Data/Cleaned_Synthetic_Gym_Check-ins.csv\")"
   ]
  },
  {
   "cell_type": "code",
   "execution_count": 4,
   "id": "abfef33c",
   "metadata": {},
   "outputs": [
    {
     "data": {
      "text/html": [
       "<div>\n",
       "<style scoped>\n",
       "    .dataframe tbody tr th:only-of-type {\n",
       "        vertical-align: middle;\n",
       "    }\n",
       "\n",
       "    .dataframe tbody tr th {\n",
       "        vertical-align: top;\n",
       "    }\n",
       "\n",
       "    .dataframe thead th {\n",
       "        text-align: right;\n",
       "    }\n",
       "</style>\n",
       "<table border=\"1\" class=\"dataframe\">\n",
       "  <thead>\n",
       "    <tr style=\"text-align: right;\">\n",
       "      <th></th>\n",
       "      <th>Unnamed: 0</th>\n",
       "      <th>timestamp</th>\n",
       "      <th>student_id</th>\n",
       "      <th>activity_type</th>\n",
       "      <th>duration_minutes</th>\n",
       "      <th>day_of_week</th>\n",
       "    </tr>\n",
       "  </thead>\n",
       "  <tbody>\n",
       "    <tr>\n",
       "      <th>0</th>\n",
       "      <td>0</td>\n",
       "      <td>2025-06-01 19:07:00</td>\n",
       "      <td>S0167</td>\n",
       "      <td>yoga</td>\n",
       "      <td>69</td>\n",
       "      <td>Sunday</td>\n",
       "    </tr>\n",
       "    <tr>\n",
       "      <th>1</th>\n",
       "      <td>1</td>\n",
       "      <td>2025-06-01 19:57:00</td>\n",
       "      <td>S0104</td>\n",
       "      <td>swimming</td>\n",
       "      <td>85</td>\n",
       "      <td>Sunday</td>\n",
       "    </tr>\n",
       "    <tr>\n",
       "      <th>2</th>\n",
       "      <td>2</td>\n",
       "      <td>2025-06-01 17:50:00</td>\n",
       "      <td>S0142</td>\n",
       "      <td>elliptical</td>\n",
       "      <td>80</td>\n",
       "      <td>Sunday</td>\n",
       "    </tr>\n",
       "    <tr>\n",
       "      <th>3</th>\n",
       "      <td>3</td>\n",
       "      <td>2025-06-01 12:11:00</td>\n",
       "      <td>S0060</td>\n",
       "      <td>treadmill</td>\n",
       "      <td>78</td>\n",
       "      <td>Sunday</td>\n",
       "    </tr>\n",
       "    <tr>\n",
       "      <th>4</th>\n",
       "      <td>4</td>\n",
       "      <td>2025-06-01 09:27:00</td>\n",
       "      <td>S0173</td>\n",
       "      <td>yoga</td>\n",
       "      <td>61</td>\n",
       "      <td>Sunday</td>\n",
       "    </tr>\n",
       "  </tbody>\n",
       "</table>\n",
       "</div>"
      ],
      "text/plain": [
       "   Unnamed: 0            timestamp student_id activity_type  duration_minutes  \\\n",
       "0           0  2025-06-01 19:07:00      S0167          yoga                69   \n",
       "1           1  2025-06-01 19:57:00      S0104      swimming                85   \n",
       "2           2  2025-06-01 17:50:00      S0142    elliptical                80   \n",
       "3           3  2025-06-01 12:11:00      S0060     treadmill                78   \n",
       "4           4  2025-06-01 09:27:00      S0173          yoga                61   \n",
       "\n",
       "  day_of_week  \n",
       "0      Sunday  \n",
       "1      Sunday  \n",
       "2      Sunday  \n",
       "3      Sunday  \n",
       "4      Sunday  "
      ]
     },
     "execution_count": 4,
     "metadata": {},
     "output_type": "execute_result"
    }
   ],
   "source": [
    "# Check dataset\n",
    "df.head()"
   ]
  },
  {
   "cell_type": "code",
   "execution_count": 5,
   "id": "1483c064",
   "metadata": {},
   "outputs": [
    {
     "data": {
      "text/plain": [
       "Index(['Unnamed: 0', 'timestamp', 'student_id', 'activity_type',\n",
       "       'duration_minutes', 'day_of_week'],\n",
       "      dtype='object')"
      ]
     },
     "execution_count": 5,
     "metadata": {},
     "output_type": "execute_result"
    }
   ],
   "source": [
    "df.columns"
   ]
  },
  {
   "cell_type": "code",
   "execution_count": 8,
   "id": "c785d726",
   "metadata": {},
   "outputs": [
    {
     "data": {
      "text/plain": [
       "Unnamed: 0                   int64\n",
       "timestamp           datetime64[ns]\n",
       "student_id                  object\n",
       "activity_type               object\n",
       "duration_minutes             int64\n",
       "day_of_week                 object\n",
       "dtype: object"
      ]
     },
     "execution_count": 8,
     "metadata": {},
     "output_type": "execute_result"
    }
   ],
   "source": [
    "df.dtypes"
   ]
  },
  {
   "cell_type": "code",
   "execution_count": 7,
   "id": "01cba7b8",
   "metadata": {},
   "outputs": [],
   "source": [
    "df['timestamp'] = pd.to_datetime(df['timestamp'])"
   ]
  },
  {
   "cell_type": "code",
   "execution_count": 11,
   "id": "31609008",
   "metadata": {},
   "outputs": [],
   "source": [
    "df['hour'] = df['timestamp'].dt.hour\n",
    "df['date'] = df['timestamp'].dt.date"
   ]
  },
  {
   "cell_type": "code",
   "execution_count": 12,
   "id": "8ba35fad",
   "metadata": {},
   "outputs": [
    {
     "data": {
      "text/plain": [
       "0       2025-06-01\n",
       "1       2025-06-01\n",
       "2       2025-06-01\n",
       "3       2025-06-01\n",
       "4       2025-06-01\n",
       "           ...    \n",
       "4309    2025-06-30\n",
       "4310    2025-06-30\n",
       "4311    2025-06-30\n",
       "4312    2025-06-30\n",
       "4313    2025-06-30\n",
       "Name: date, Length: 4314, dtype: object"
      ]
     },
     "execution_count": 12,
     "metadata": {},
     "output_type": "execute_result"
    }
   ],
   "source": [
    "df['date']"
   ]
  },
  {
   "cell_type": "code",
   "execution_count": 13,
   "id": "14b5a09c",
   "metadata": {},
   "outputs": [
    {
     "data": {
      "text/html": [
       "<div>\n",
       "<style scoped>\n",
       "    .dataframe tbody tr th:only-of-type {\n",
       "        vertical-align: middle;\n",
       "    }\n",
       "\n",
       "    .dataframe tbody tr th {\n",
       "        vertical-align: top;\n",
       "    }\n",
       "\n",
       "    .dataframe thead th {\n",
       "        text-align: right;\n",
       "    }\n",
       "</style>\n",
       "<table border=\"1\" class=\"dataframe\">\n",
       "  <thead>\n",
       "    <tr style=\"text-align: right;\">\n",
       "      <th></th>\n",
       "      <th>Unnamed: 0</th>\n",
       "      <th>timestamp</th>\n",
       "      <th>student_id</th>\n",
       "      <th>activity_type</th>\n",
       "      <th>duration_minutes</th>\n",
       "      <th>day_of_week</th>\n",
       "      <th>hour</th>\n",
       "      <th>date</th>\n",
       "    </tr>\n",
       "  </thead>\n",
       "  <tbody>\n",
       "    <tr>\n",
       "      <th>count</th>\n",
       "      <td>4314.00000</td>\n",
       "      <td>4314</td>\n",
       "      <td>4314</td>\n",
       "      <td>4314</td>\n",
       "      <td>4314.000000</td>\n",
       "      <td>4314</td>\n",
       "      <td>4314.000000</td>\n",
       "      <td>4314</td>\n",
       "    </tr>\n",
       "    <tr>\n",
       "      <th>unique</th>\n",
       "      <td>NaN</td>\n",
       "      <td>NaN</td>\n",
       "      <td>300</td>\n",
       "      <td>5</td>\n",
       "      <td>NaN</td>\n",
       "      <td>7</td>\n",
       "      <td>NaN</td>\n",
       "      <td>30</td>\n",
       "    </tr>\n",
       "    <tr>\n",
       "      <th>top</th>\n",
       "      <td>NaN</td>\n",
       "      <td>NaN</td>\n",
       "      <td>S0047</td>\n",
       "      <td>swimming</td>\n",
       "      <td>NaN</td>\n",
       "      <td>Monday</td>\n",
       "      <td>NaN</td>\n",
       "      <td>2025-06-02</td>\n",
       "    </tr>\n",
       "    <tr>\n",
       "      <th>freq</th>\n",
       "      <td>NaN</td>\n",
       "      <td>NaN</td>\n",
       "      <td>25</td>\n",
       "      <td>897</td>\n",
       "      <td>NaN</td>\n",
       "      <td>859</td>\n",
       "      <td>NaN</td>\n",
       "      <td>199</td>\n",
       "    </tr>\n",
       "    <tr>\n",
       "      <th>mean</th>\n",
       "      <td>2156.50000</td>\n",
       "      <td>2025-06-15 22:05:54.158553600</td>\n",
       "      <td>NaN</td>\n",
       "      <td>NaN</td>\n",
       "      <td>55.114279</td>\n",
       "      <td>NaN</td>\n",
       "      <td>14.559805</td>\n",
       "      <td>NaN</td>\n",
       "    </tr>\n",
       "    <tr>\n",
       "      <th>min</th>\n",
       "      <td>0.00000</td>\n",
       "      <td>2025-06-01 06:48:00</td>\n",
       "      <td>NaN</td>\n",
       "      <td>NaN</td>\n",
       "      <td>20.000000</td>\n",
       "      <td>NaN</td>\n",
       "      <td>6.000000</td>\n",
       "      <td>NaN</td>\n",
       "    </tr>\n",
       "    <tr>\n",
       "      <th>25%</th>\n",
       "      <td>1078.25000</td>\n",
       "      <td>2025-06-08 08:48:00</td>\n",
       "      <td>NaN</td>\n",
       "      <td>NaN</td>\n",
       "      <td>37.000000</td>\n",
       "      <td>NaN</td>\n",
       "      <td>9.000000</td>\n",
       "      <td>NaN</td>\n",
       "    </tr>\n",
       "    <tr>\n",
       "      <th>50%</th>\n",
       "      <td>2156.50000</td>\n",
       "      <td>2025-06-15 16:50:00</td>\n",
       "      <td>NaN</td>\n",
       "      <td>NaN</td>\n",
       "      <td>55.000000</td>\n",
       "      <td>NaN</td>\n",
       "      <td>17.000000</td>\n",
       "      <td>NaN</td>\n",
       "    </tr>\n",
       "    <tr>\n",
       "      <th>75%</th>\n",
       "      <td>3234.75000</td>\n",
       "      <td>2025-06-23 17:27:45</td>\n",
       "      <td>NaN</td>\n",
       "      <td>NaN</td>\n",
       "      <td>72.000000</td>\n",
       "      <td>NaN</td>\n",
       "      <td>18.000000</td>\n",
       "      <td>NaN</td>\n",
       "    </tr>\n",
       "    <tr>\n",
       "      <th>max</th>\n",
       "      <td>4313.00000</td>\n",
       "      <td>2025-06-30 20:54:00</td>\n",
       "      <td>NaN</td>\n",
       "      <td>NaN</td>\n",
       "      <td>90.000000</td>\n",
       "      <td>NaN</td>\n",
       "      <td>20.000000</td>\n",
       "      <td>NaN</td>\n",
       "    </tr>\n",
       "    <tr>\n",
       "      <th>std</th>\n",
       "      <td>1245.48886</td>\n",
       "      <td>NaN</td>\n",
       "      <td>NaN</td>\n",
       "      <td>NaN</td>\n",
       "      <td>20.464854</td>\n",
       "      <td>NaN</td>\n",
       "      <td>4.607957</td>\n",
       "      <td>NaN</td>\n",
       "    </tr>\n",
       "  </tbody>\n",
       "</table>\n",
       "</div>"
      ],
      "text/plain": [
       "        Unnamed: 0                      timestamp student_id activity_type  \\\n",
       "count   4314.00000                           4314       4314          4314   \n",
       "unique         NaN                            NaN        300             5   \n",
       "top            NaN                            NaN      S0047      swimming   \n",
       "freq           NaN                            NaN         25           897   \n",
       "mean    2156.50000  2025-06-15 22:05:54.158553600        NaN           NaN   \n",
       "min        0.00000            2025-06-01 06:48:00        NaN           NaN   \n",
       "25%     1078.25000            2025-06-08 08:48:00        NaN           NaN   \n",
       "50%     2156.50000            2025-06-15 16:50:00        NaN           NaN   \n",
       "75%     3234.75000            2025-06-23 17:27:45        NaN           NaN   \n",
       "max     4313.00000            2025-06-30 20:54:00        NaN           NaN   \n",
       "std     1245.48886                            NaN        NaN           NaN   \n",
       "\n",
       "        duration_minutes day_of_week         hour        date  \n",
       "count        4314.000000        4314  4314.000000        4314  \n",
       "unique               NaN           7          NaN          30  \n",
       "top                  NaN      Monday          NaN  2025-06-02  \n",
       "freq                 NaN         859          NaN         199  \n",
       "mean           55.114279         NaN    14.559805         NaN  \n",
       "min            20.000000         NaN     6.000000         NaN  \n",
       "25%            37.000000         NaN     9.000000         NaN  \n",
       "50%            55.000000         NaN    17.000000         NaN  \n",
       "75%            72.000000         NaN    18.000000         NaN  \n",
       "max            90.000000         NaN    20.000000         NaN  \n",
       "std            20.464854         NaN     4.607957         NaN  "
      ]
     },
     "execution_count": 13,
     "metadata": {},
     "output_type": "execute_result"
    }
   ],
   "source": [
    "df.describe(include='all')"
   ]
  },
  {
   "cell_type": "code",
   "execution_count": 14,
   "id": "ffa6f154",
   "metadata": {},
   "outputs": [
    {
     "data": {
      "text/plain": [
       "activity_type\n",
       "swimming      897\n",
       "yoga          881\n",
       "weights       875\n",
       "treadmill     861\n",
       "elliptical    800\n",
       "Name: count, dtype: int64"
      ]
     },
     "execution_count": 14,
     "metadata": {},
     "output_type": "execute_result"
    }
   ],
   "source": [
    "df['activity_type'].value_counts()"
   ]
  }
 ],
 "metadata": {
  "kernelspec": {
   "display_name": "base",
   "language": "python",
   "name": "python3"
  },
  "language_info": {
   "codemirror_mode": {
    "name": "ipython",
    "version": 3
   },
   "file_extension": ".py",
   "mimetype": "text/x-python",
   "name": "python",
   "nbconvert_exporter": "python",
   "pygments_lexer": "ipython3",
   "version": "3.12.4"
  }
 },
 "nbformat": 4,
 "nbformat_minor": 5
}
