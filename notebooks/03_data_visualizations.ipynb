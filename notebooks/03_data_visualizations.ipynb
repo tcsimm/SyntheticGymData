{
 "cells": [
  {
   "cell_type": "code",
   "execution_count": 7,
   "id": "df9abb8e",
   "metadata": {},
   "outputs": [],
   "source": [
    "# Imports\n",
    "import pandas as pd\n",
    "import seaborn as sns\n",
    "import matplotlib.pyplot as plt"
   ]
  },
  {
   "cell_type": "code",
   "execution_count": 8,
   "id": "c82aafe0",
   "metadata": {},
   "outputs": [],
   "source": [
    "df = pd.read_csv(\"/Users/thomassimmons/c/GymDataJul2025/Data/Cleaned_Synthetic_Gym_Check-ins.csv\")"
   ]
  },
  {
   "cell_type": "code",
   "execution_count": 9,
   "id": "d8631e6e",
   "metadata": {},
   "outputs": [
    {
     "data": {
      "text/html": [
       "<div>\n",
       "<style scoped>\n",
       "    .dataframe tbody tr th:only-of-type {\n",
       "        vertical-align: middle;\n",
       "    }\n",
       "\n",
       "    .dataframe tbody tr th {\n",
       "        vertical-align: top;\n",
       "    }\n",
       "\n",
       "    .dataframe thead th {\n",
       "        text-align: right;\n",
       "    }\n",
       "</style>\n",
       "<table border=\"1\" class=\"dataframe\">\n",
       "  <thead>\n",
       "    <tr style=\"text-align: right;\">\n",
       "      <th></th>\n",
       "      <th>Unnamed: 0</th>\n",
       "      <th>timestamp</th>\n",
       "      <th>student_id</th>\n",
       "      <th>activity_type</th>\n",
       "      <th>duration_minutes</th>\n",
       "      <th>day_of_week</th>\n",
       "    </tr>\n",
       "  </thead>\n",
       "  <tbody>\n",
       "    <tr>\n",
       "      <th>0</th>\n",
       "      <td>0</td>\n",
       "      <td>2025-06-01 19:07:00</td>\n",
       "      <td>S0167</td>\n",
       "      <td>yoga</td>\n",
       "      <td>69</td>\n",
       "      <td>Sunday</td>\n",
       "    </tr>\n",
       "    <tr>\n",
       "      <th>1</th>\n",
       "      <td>1</td>\n",
       "      <td>2025-06-01 19:57:00</td>\n",
       "      <td>S0104</td>\n",
       "      <td>swimming</td>\n",
       "      <td>85</td>\n",
       "      <td>Sunday</td>\n",
       "    </tr>\n",
       "    <tr>\n",
       "      <th>2</th>\n",
       "      <td>2</td>\n",
       "      <td>2025-06-01 17:50:00</td>\n",
       "      <td>S0142</td>\n",
       "      <td>elliptical</td>\n",
       "      <td>80</td>\n",
       "      <td>Sunday</td>\n",
       "    </tr>\n",
       "    <tr>\n",
       "      <th>3</th>\n",
       "      <td>3</td>\n",
       "      <td>2025-06-01 12:11:00</td>\n",
       "      <td>S0060</td>\n",
       "      <td>treadmill</td>\n",
       "      <td>78</td>\n",
       "      <td>Sunday</td>\n",
       "    </tr>\n",
       "    <tr>\n",
       "      <th>4</th>\n",
       "      <td>4</td>\n",
       "      <td>2025-06-01 09:27:00</td>\n",
       "      <td>S0173</td>\n",
       "      <td>yoga</td>\n",
       "      <td>61</td>\n",
       "      <td>Sunday</td>\n",
       "    </tr>\n",
       "  </tbody>\n",
       "</table>\n",
       "</div>"
      ],
      "text/plain": [
       "   Unnamed: 0            timestamp student_id activity_type  duration_minutes  \\\n",
       "0           0  2025-06-01 19:07:00      S0167          yoga                69   \n",
       "1           1  2025-06-01 19:57:00      S0104      swimming                85   \n",
       "2           2  2025-06-01 17:50:00      S0142    elliptical                80   \n",
       "3           3  2025-06-01 12:11:00      S0060     treadmill                78   \n",
       "4           4  2025-06-01 09:27:00      S0173          yoga                61   \n",
       "\n",
       "  day_of_week  \n",
       "0      Sunday  \n",
       "1      Sunday  \n",
       "2      Sunday  \n",
       "3      Sunday  \n",
       "4      Sunday  "
      ]
     },
     "execution_count": 9,
     "metadata": {},
     "output_type": "execute_result"
    }
   ],
   "source": [
    "df.head()"
   ]
  },
  {
   "cell_type": "code",
   "execution_count": 10,
   "id": "9ae65ee7",
   "metadata": {},
   "outputs": [
    {
     "data": {
      "text/plain": [
       "<bound method NDFrame.describe of       Unnamed: 0            timestamp student_id activity_type  \\\n",
       "0              0  2025-06-01 19:07:00      S0167          yoga   \n",
       "1              1  2025-06-01 19:57:00      S0104      swimming   \n",
       "2              2  2025-06-01 17:50:00      S0142    elliptical   \n",
       "3              3  2025-06-01 12:11:00      S0060     treadmill   \n",
       "4              4  2025-06-01 09:27:00      S0173          yoga   \n",
       "...          ...                  ...        ...           ...   \n",
       "4309        4309  2025-06-30 18:19:00      S0020       weights   \n",
       "4310        4310  2025-06-30 08:38:00      S0030      swimming   \n",
       "4311        4311  2025-06-30 19:54:00      S0114    elliptical   \n",
       "4312        4312  2025-06-30 12:21:00      S0148      swimming   \n",
       "4313        4313  2025-06-30 09:41:00      S0194    elliptical   \n",
       "\n",
       "      duration_minutes day_of_week  \n",
       "0                   69      Sunday  \n",
       "1                   85      Sunday  \n",
       "2                   80      Sunday  \n",
       "3                   78      Sunday  \n",
       "4                   61      Sunday  \n",
       "...                ...         ...  \n",
       "4309                32      Monday  \n",
       "4310                29      Monday  \n",
       "4311                34      Monday  \n",
       "4312                45      Monday  \n",
       "4313                40      Monday  \n",
       "\n",
       "[4314 rows x 6 columns]>"
      ]
     },
     "execution_count": 10,
     "metadata": {},
     "output_type": "execute_result"
    }
   ],
   "source": [
    "df.describe"
   ]
  },
  {
   "cell_type": "code",
   "execution_count": 13,
   "id": "1e8035c3",
   "metadata": {},
   "outputs": [
    {
     "data": {
      "text/plain": [
       "Index(['unnamed: 0', 'timestamp', 'student_id', 'activity_type',\n",
       "       'duration_minutes', 'day_of_week'],\n",
       "      dtype='object')"
      ]
     },
     "execution_count": 13,
     "metadata": {},
     "output_type": "execute_result"
    }
   ],
   "source": [
    "df.columns"
   ]
  },
  {
   "cell_type": "code",
   "execution_count": 12,
   "id": "b1d2e778",
   "metadata": {},
   "outputs": [],
   "source": [
    "df.columns = df.columns.str.strip().str.lower()"
   ]
  }
 ],
 "metadata": {
  "kernelspec": {
   "display_name": "base",
   "language": "python",
   "name": "python3"
  },
  "language_info": {
   "codemirror_mode": {
    "name": "ipython",
    "version": 3
   },
   "file_extension": ".py",
   "mimetype": "text/x-python",
   "name": "python",
   "nbconvert_exporter": "python",
   "pygments_lexer": "ipython3",
   "version": "3.12.4"
  }
 },
 "nbformat": 4,
 "nbformat_minor": 5
}
